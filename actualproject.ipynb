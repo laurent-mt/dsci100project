{
 "cells": [
  {
   "cell_type": "markdown",
   "metadata": {},
   "source": [
    "# Predicting Heart Disease based on Cleveland's Dataset"
   ]
  },
  {
   "cell_type": "markdown",
   "metadata": {},
   "source": [
    "## 1. Introduction"
   ]
  },
  {
   "cell_type": "markdown",
   "metadata": {},
   "source": [
    "Lorem ipsum dolor sit amet, consectetur adipiscing elit, sed do eiusmod tempor incididunt ut labore et dolore magna aliqua. Ut enim ad minim veniam, quis nostrud exercitation ullamco laboris nisi ut aliquip ex ea commodo consequat. Duis aute irure dolor in reprehenderit in voluptate velit esse cillum dolore eu fugiat nulla pariatur. Excepteur sint occaecat cupidatat non proident, sunt in culpa qui officia deserunt mollit anim id est laborum."
   ]
  },
  {
   "cell_type": "markdown",
   "metadata": {},
   "source": [
    "## 2. Code"
   ]
  },
  {
   "cell_type": "code",
   "execution_count": 4,
   "metadata": {},
   "outputs": [
    {
     "name": "stderr",
     "output_type": "stream",
     "text": [
      "Parsed with column specification:\n",
      "cols(\n",
      "  age = \u001b[32mcol_double()\u001b[39m,\n",
      "  sex = \u001b[32mcol_double()\u001b[39m,\n",
      "  chestpaintype = \u001b[32mcol_double()\u001b[39m,\n",
      "  restbps = \u001b[32mcol_double()\u001b[39m,\n",
      "  cholesterolserum = \u001b[32mcol_double()\u001b[39m,\n",
      "  fastingbs = \u001b[32mcol_double()\u001b[39m,\n",
      "  restecg = \u001b[32mcol_double()\u001b[39m,\n",
      "  maxheartrate = \u001b[32mcol_double()\u001b[39m,\n",
      "  exerciseangina = \u001b[32mcol_double()\u001b[39m,\n",
      "  oldpeak = \u001b[32mcol_double()\u001b[39m,\n",
      "  slope = \u001b[32mcol_double()\u001b[39m,\n",
      "  nmajorvessels = \u001b[31mcol_character()\u001b[39m,\n",
      "  thalassemia = \u001b[31mcol_character()\u001b[39m,\n",
      "  diagnosis = \u001b[32mcol_double()\u001b[39m\n",
      ")\n",
      "\n"
     ]
    }
   ],
   "source": [
    "# Loading the libraries.\n",
    "library(tidyverse)\n",
    "library(tidymodels)\n",
    "library(dplyr)\n",
    "library(readr)\n",
    "library(cowplot)\n",
    "library(recipes)\n",
    "library(RColorBrewer)\n",
    "\n",
    "#Loading data into R and selecting interested columns.\n",
    "heart <- read_csv(\"https://archive.ics.uci.edu/ml/machine-learning-databases/heart-disease/processed.cleveland.data\",\n",
    "                  col_names = c(\"age\", \"sex\", \"chestpaintype\", \"restbps\", \n",
    "                                \"cholesterolserum\", \"fastingbs\", \"restecg\",\n",
    "                                \"maxheartrate\", \"exerciseangina\", \"oldpeak\",\n",
    "                                \"slope\", \"nmajorvessels\", \"thalassemia\", \n",
    "                                \"diagnosis\"))                               %>%\n",
    "         mutate(diagnosis = as_factor(diagnosis))                           %>%\n",
    "         select(age, sex, oldpeak, nmajorvessels, \n",
    "                fastingbs, maxheartrate, diagnosis)\n",
    "\n",
    "# Removing the missing data in nmajorvessels.\n",
    "heart_filtered <- heart                                                      %>%\n",
    "                  filter(nmajorvessels != \"?\")\n",
    "\n",
    "# Since values other than 0 for diagnosis means presence of heart disease, 1-4 values are lumped into 1.\n",
    "# Number of major vessels is converted into numeric.\n",
    "heart_disease <- heart_filtered %>%\n",
    "                 mutate(diagnosis = fct_lump(diagnosis, other_level = \"1\")) %>%\n",
    "                 mutate(nmajorvessels = as.numeric(nmajorvessels)) %>%\n",
    "select(-fastingbs)\n",
    "\n",
    "#Splitting the data.\n",
    "set.seed(11)\n",
    "\n",
    "heart_split <- initial_split(heart_disease, prop = 0.70, strata = diagnosis)\n",
    "heart_train <- training(heart_split)\n",
    "heart_test  <- testing(heart_split)"
   ]
  },
  {
   "cell_type": "code",
   "execution_count": 8,
   "metadata": {},
   "outputs": [
    {
     "data": {
      "image/png": "[encoded data removed]",
      "text/plain": [
       "plot without title"
      ]
     },
     "metadata": {
      "image/png": {
       "height": 420,
       "width": 420
      }
     },
     "output_type": "display_data"
    }
   ],
   "source": [
    "#Recipe, model, fit.\n",
    "set.seed(11)\n",
    "\n",
    "heart_recipe  <- recipe(diagnosis ~ ., data = heart_train)                  %>%\n",
    "                 step_scale(all_predictors())                               %>%\n",
    "                 step_center(all_predictors())\n",
    "\n",
    "heart_vfold   <- vfold_cv(heart_train, v = 5, strata = diagnosis)\n",
    "\n",
    "knn_spec      <- nearest_neighbor(weight_func = \"rectangular\", \n",
    "                                  neighbors   = tune())                     %>%\n",
    "                 set_engine(\"kknn\")                                         %>%\n",
    "                 set_mode(\"classification\")\n",
    "\n",
    "heart_results <- workflow()                                                 %>%\n",
    "                 add_recipe(heart_recipe)                                   %>%\n",
    "                 add_model(knn_spec)                                        %>%\n",
    "                 tune_grid(resamples = heart_vfold, grid = 10)              %>%\n",
    "                 collect_metrics()\n",
    "\n",
    "accuracy      <- heart_results                                              %>%\n",
    "                 filter(.metric == \"accuracy\")\n",
    "\n",
    "accuracy_plot <- ggplot(accuracy, aes(x = neighbors, y = mean))             +\n",
    "                  geom_point()                                              +\n",
    "                  geom_line()                                               +\n",
    "                  labs(x = \"Neighbors\", y = \"Accuracy Estimate\")            + \n",
    "                  theme(text = element_text(size = 12))\n",
    "\n",
    "accuracy_plot"
   ]
  },
  {
   "cell_type": "code",
   "execution_count": 9,
   "metadata": {},
   "outputs": [
    {
     "data": {
      "text/plain": [
       "          Truth\n",
       "Prediction  0  1\n",
       "         0 40 11\n",
       "         1  8 30"
      ]
     },
     "metadata": {},
     "output_type": "display_data"
    },
    {
     "data": {
      "text/html": [
       "<table>\n",
       "<caption>A tibble: 1 × 3</caption>\n",
       "<thead>\n",
       "\t<tr><th scope=col>.metric</th><th scope=col>.estimator</th><th scope=col>.estimate</th></tr>\n",
       "\t<tr><th scope=col>&lt;chr&gt;</th><th scope=col>&lt;chr&gt;</th><th scope=col>&lt;dbl&gt;</th></tr>\n",
       "</thead>\n",
       "<tbody>\n",
       "\t<tr><td>accuracy</td><td>binary</td><td>0.7865169</td></tr>\n",
       "</tbody>\n",
       "</table>\n"
      ],
      "text/latex": [
       "A tibble: 1 × 3\n",
       "\\begin{tabular}{lll}\n",
       " .metric & .estimator & .estimate\\\\\n",
       " <chr> & <chr> & <dbl>\\\\\n",
       "\\hline\n",
       "\t accuracy & binary & 0.7865169\\\\\n",
       "\\end{tabular}\n"
      ],
      "text/markdown": [
       "\n",
       "A tibble: 1 × 3\n",
       "\n",
       "| .metric &lt;chr&gt; | .estimator &lt;chr&gt; | .estimate &lt;dbl&gt; |\n",
       "|---|---|---|\n",
       "| accuracy | binary | 0.7865169 |\n",
       "\n"
      ],
      "text/plain": [
       "  .metric  .estimator .estimate\n",
       "1 accuracy binary     0.7865169"
      ]
     },
     "metadata": {},
     "output_type": "display_data"
    }
   ],
   "source": [
    "set.seed(11)\n",
    "\n",
    "heart_spec <- nearest_neighbor(weight_func = \"rectangular\", neighbors = 5)  %>%\n",
    "              set_engine(\"kknn\")                                            %>%\n",
    "              set_mode(\"classification\")\n",
    "\n",
    "heart_fit  <- workflow()                                                    %>%\n",
    "              add_recipe(heart_recipe)                                      %>%\n",
    "              add_model(heart_spec)                                         %>%\n",
    "              fit(data = heart_train)\n",
    "\n",
    "\n",
    "heart_predictions <- predict(heart_fit, heart_test)                         %>%\n",
    "                     bind_cols(heart_test)\n",
    "\n",
    "heart_metrics     <- heart_predictions                                      %>%\n",
    "                     metrics(truth = diagnosis, estimate = .pred_class)     %>%\n",
    "                     filter(.metric == \"accuracy\")\n",
    "\n",
    "heart_conf_mat    <- heart_predictions                                      %>%\n",
    "                     conf_mat(truth = diagnosis, estimate = .pred_class)\n",
    "\n",
    "number_accuracy   <- heart_predictions                                      %>%\n",
    "                     metrics(truth = diagnosis, estimate = .pred_class)     %>%\n",
    "                     filter(.metric == \"accuracy\")\n",
    "\n",
    "heart_conf_mat\n",
    "number_accuracy"
   ]
  },
  {
   "cell_type": "code",
   "execution_count": null,
   "metadata": {},
   "outputs": [],
   "source": []
  }
 ],
 "metadata": {
  "kernelspec": {
   "display_name": "R",
   "language": "R",
   "name": "ir"
  },
  "language_info": {
   "codemirror_mode": "r",
   "file_extension": ".r",
   "mimetype": "text/x-r-source",
   "name": "R",
   "pygments_lexer": "r",
   "version": "4.0.0"
  }
 },
 "nbformat": 4,
 "nbformat_minor": 4
}
