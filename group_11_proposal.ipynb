{
 "cells": [
  {
   "cell_type": "markdown",
   "metadata": {},
   "source": [
    "# **Group 11**"
   ]
  },
  {
   "cell_type": "markdown",
   "metadata": {},
   "source": [
    "## 1. Predicting Heart Disease based on Cleveland's Dataset"
   ]
  },
  {
   "cell_type": "markdown",
   "metadata": {},
   "source": [
    "## 2. Introduction\n",
    "Heart disease is a broad term that encompasses medical conditions that primarily affect coronary arteries, heart rhythm, and the heart's health. It is notoriously hard to diagnose due to the requirement of several variables needing to simultaneously point towards the same conclusion.\n",
    "\n",
    "The Cleveland Heart Disease Dataset found on the UCI Machine Learning Repository comprises information on 303 individuals (206 men and 97 women), with an age range of 29 to 77 and 14 variables. Our research question is to assess whether it is possible to create a model that can accurately predict the diagnosis of patients with specific six variables. The predictors chosen are age, sex, ST depression induced by exercise, number of major vessels, fasting blood sugar levels, and maximum heart rate. The main aim is to have a model that is as accurate as possible given the heavy implications of a misdiagnosis."
   ]
  },
  {
   "cell_type": "markdown",
   "metadata": {},
   "source": [
    "## 3. Preliminary exploratory data analysis:\n"
   ]
  },
  {
   "cell_type": "code",
   "execution_count": 10,
   "metadata": {},
   "outputs": [],
   "source": [
    "# Loading the libraries.\n",
    "library(tidyverse)\n",
    "library(tidymodels)\n",
    "library(dplyr)\n",
    "library(readr)\n",
    "library(cowplot)\n",
    "library(recipes)\n",
    "library(RColorBrewer)"
   ]
  },
  {
   "cell_type": "code",
   "execution_count": 11,
   "metadata": {},
   "outputs": [
    {
     "name": "stderr",
     "output_type": "stream",
     "text": [
      "Parsed with column specification:\n",
      "cols(\n",
      "  age = \u001b[32mcol_double()\u001b[39m,\n",
      "  sex = \u001b[32mcol_double()\u001b[39m,\n",
      "  chestpaintype = \u001b[32mcol_double()\u001b[39m,\n",
      "  restbps = \u001b[32mcol_double()\u001b[39m,\n",
      "  cholesterolserum = \u001b[32mcol_double()\u001b[39m,\n",
      "  fastingbs = \u001b[32mcol_double()\u001b[39m,\n",
      "  restecg = \u001b[32mcol_double()\u001b[39m,\n",
      "  maxheartrate = \u001b[32mcol_double()\u001b[39m,\n",
      "  exerciseangina = \u001b[32mcol_double()\u001b[39m,\n",
      "  oldpeak = \u001b[32mcol_double()\u001b[39m,\n",
      "  slope = \u001b[32mcol_double()\u001b[39m,\n",
      "  nmajorvessels = \u001b[31mcol_character()\u001b[39m,\n",
      "  thalassemia = \u001b[31mcol_character()\u001b[39m,\n",
      "  diagnosis = \u001b[32mcol_double()\u001b[39m\n",
      ")\n",
      "\n"
     ]
    },
    {
     "data": {
      "text/html": [
       "<table>\n",
       "<caption>A tibble: 6 × 7</caption>\n",
       "<thead>\n",
       "\t<tr><th scope=col>age</th><th scope=col>sex</th><th scope=col>oldpeak</th><th scope=col>nmajorvessels</th><th scope=col>fastingbs</th><th scope=col>maxheartrate</th><th scope=col>diagnosis</th></tr>\n",
       "\t<tr><th scope=col>&lt;dbl&gt;</th><th scope=col>&lt;dbl&gt;</th><th scope=col>&lt;dbl&gt;</th><th scope=col>&lt;chr&gt;</th><th scope=col>&lt;dbl&gt;</th><th scope=col>&lt;dbl&gt;</th><th scope=col>&lt;fct&gt;</th></tr>\n",
       "</thead>\n",
       "<tbody>\n",
       "\t<tr><td>63</td><td>1</td><td>2.3</td><td>0.0</td><td>1</td><td>150</td><td>0</td></tr>\n",
       "\t<tr><td>67</td><td>1</td><td>1.5</td><td>3.0</td><td>0</td><td>108</td><td>2</td></tr>\n",
       "\t<tr><td>67</td><td>1</td><td>2.6</td><td>2.0</td><td>0</td><td>129</td><td>1</td></tr>\n",
       "\t<tr><td>37</td><td>1</td><td>3.5</td><td>0.0</td><td>0</td><td>187</td><td>0</td></tr>\n",
       "\t<tr><td>41</td><td>0</td><td>1.4</td><td>0.0</td><td>0</td><td>172</td><td>0</td></tr>\n",
       "\t<tr><td>56</td><td>1</td><td>0.8</td><td>0.0</td><td>0</td><td>178</td><td>0</td></tr>\n",
       "</tbody>\n",
       "</table>\n"
      ],
      "text/latex": [
       "A tibble: 6 × 7\n",
       "\\begin{tabular}{lllllll}\n",
       " age & sex & oldpeak & nmajorvessels & fastingbs & maxheartrate & diagnosis\\\\\n",
       " <dbl> & <dbl> & <dbl> & <chr> & <dbl> & <dbl> & <fct>\\\\\n",
       "\\hline\n",
       "\t 63 & 1 & 2.3 & 0.0 & 1 & 150 & 0\\\\\n",
       "\t 67 & 1 & 1.5 & 3.0 & 0 & 108 & 2\\\\\n",
       "\t 67 & 1 & 2.6 & 2.0 & 0 & 129 & 1\\\\\n",
       "\t 37 & 1 & 3.5 & 0.0 & 0 & 187 & 0\\\\\n",
       "\t 41 & 0 & 1.4 & 0.0 & 0 & 172 & 0\\\\\n",
       "\t 56 & 1 & 0.8 & 0.0 & 0 & 178 & 0\\\\\n",
       "\\end{tabular}\n"
      ],
      "text/markdown": [
       "\n",
       "A tibble: 6 × 7\n",
       "\n",
       "| age &lt;dbl&gt; | sex &lt;dbl&gt; | oldpeak &lt;dbl&gt; | nmajorvessels &lt;chr&gt; | fastingbs &lt;dbl&gt; | maxheartrate &lt;dbl&gt; | diagnosis &lt;fct&gt; |\n",
       "|---|---|---|---|---|---|---|\n",
       "| 63 | 1 | 2.3 | 0.0 | 1 | 150 | 0 |\n",
       "| 67 | 1 | 1.5 | 3.0 | 0 | 108 | 2 |\n",
       "| 67 | 1 | 2.6 | 2.0 | 0 | 129 | 1 |\n",
       "| 37 | 1 | 3.5 | 0.0 | 0 | 187 | 0 |\n",
       "| 41 | 0 | 1.4 | 0.0 | 0 | 172 | 0 |\n",
       "| 56 | 1 | 0.8 | 0.0 | 0 | 178 | 0 |\n",
       "\n"
      ],
      "text/plain": [
       "  age sex oldpeak nmajorvessels fastingbs maxheartrate diagnosis\n",
       "1 63  1   2.3     0.0           1         150          0        \n",
       "2 67  1   1.5     3.0           0         108          2        \n",
       "3 67  1   2.6     2.0           0         129          1        \n",
       "4 37  1   3.5     0.0           0         187          0        \n",
       "5 41  0   1.4     0.0           0         172          0        \n",
       "6 56  1   0.8     0.0           0         178          0        "
      ]
     },
     "metadata": {},
     "output_type": "display_data"
    },
    {
     "data": {
      "text/html": [
       "<style>\n",
       ".dl-inline {width: auto; margin:0; padding: 0}\n",
       ".dl-inline>dt, .dl-inline>dd {float: none; width: auto; display: inline-block}\n",
       ".dl-inline>dt::after {content: \":\\0020\"; padding-right: .5ex}\n",
       ".dl-inline>dt:not(:first-of-type) {padding-left: .5ex}\n",
       "</style><dl class=dl-inline><dt>age</dt><dd>0</dd><dt>sex</dt><dd>0</dd><dt>oldpeak</dt><dd>0</dd><dt>nmajorvessels</dt><dd>0</dd><dt>fastingbs</dt><dd>0</dd><dt>maxheartrate</dt><dd>0</dd><dt>diagnosis</dt><dd>0</dd></dl>\n"
      ],
      "text/latex": [
       "\\begin{description*}\n",
       "\\item[age] 0\n",
       "\\item[sex] 0\n",
       "\\item[oldpeak] 0\n",
       "\\item[nmajorvessels] 0\n",
       "\\item[fastingbs] 0\n",
       "\\item[maxheartrate] 0\n",
       "\\item[diagnosis] 0\n",
       "\\end{description*}\n"
      ],
      "text/markdown": [
       "age\n",
       ":   0sex\n",
       ":   0oldpeak\n",
       ":   0nmajorvessels\n",
       ":   0fastingbs\n",
       ":   0maxheartrate\n",
       ":   0diagnosis\n",
       ":   0\n",
       "\n"
      ],
      "text/plain": [
       "          age           sex       oldpeak nmajorvessels     fastingbs \n",
       "            0             0             0             0             0 \n",
       " maxheartrate     diagnosis \n",
       "            0             0 "
      ]
     },
     "metadata": {},
     "output_type": "display_data"
    }
   ],
   "source": [
    "#Loading data into R, selecting interested columns and previewing first 6 rows.\n",
    "heart <- read_csv(\"https://archive.ics.uci.edu/ml/machine-learning-databases/heart-disease/processed.cleveland.data\",\n",
    "                  col_names = c(\"age\", \"sex\", \"chestpaintype\", \"restbps\", \n",
    "                                \"cholesterolserum\", \"fastingbs\", \"restecg\",\n",
    "                                \"maxheartrate\", \"exerciseangina\", \"oldpeak\",\n",
    "                                \"slope\", \"nmajorvessels\", \"thalassemia\", \n",
    "                                \"diagnosis\"))                               %>%\n",
    "         mutate(diagnosis = as_factor(diagnosis))                           %>%\n",
    "         select(age, sex, oldpeak, nmajorvessels, \n",
    "                fastingbs, maxheartrate, diagnosis)\n",
    "\n",
    "head(heart)\n",
    "\n",
    "#Looking at how many missing values are in each variable:\n",
    "colSums(is.na(heart))\n"
   ]
  },
  {
   "cell_type": "code",
   "execution_count": 12,
   "metadata": {},
   "outputs": [
    {
     "data": {
      "text/html": [
       "<table>\n",
       "<caption>A tibble: 1 × 1</caption>\n",
       "<thead>\n",
       "\t<tr><th scope=col>n</th></tr>\n",
       "\t<tr><th scope=col>&lt;int&gt;</th></tr>\n",
       "</thead>\n",
       "<tbody>\n",
       "\t<tr><td>4</td></tr>\n",
       "</tbody>\n",
       "</table>\n"
      ],
      "text/latex": [
       "A tibble: 1 × 1\n",
       "\\begin{tabular}{l}\n",
       " n\\\\\n",
       " <int>\\\\\n",
       "\\hline\n",
       "\t 4\\\\\n",
       "\\end{tabular}\n"
      ],
      "text/markdown": [
       "\n",
       "A tibble: 1 × 1\n",
       "\n",
       "| n &lt;int&gt; |\n",
       "|---|\n",
       "| 4 |\n",
       "\n"
      ],
      "text/plain": [
       "  n\n",
       "1 4"
      ]
     },
     "metadata": {},
     "output_type": "display_data"
    },
    {
     "data": {
      "text/html": [
       "<table>\n",
       "<caption>A tibble: 6 × 7</caption>\n",
       "<thead>\n",
       "\t<tr><th scope=col>age</th><th scope=col>sex</th><th scope=col>oldpeak</th><th scope=col>nmajorvessels</th><th scope=col>fastingbs</th><th scope=col>maxheartrate</th><th scope=col>diagnosis</th></tr>\n",
       "\t<tr><th scope=col>&lt;dbl&gt;</th><th scope=col>&lt;dbl&gt;</th><th scope=col>&lt;dbl&gt;</th><th scope=col>&lt;chr&gt;</th><th scope=col>&lt;dbl&gt;</th><th scope=col>&lt;dbl&gt;</th><th scope=col>&lt;fct&gt;</th></tr>\n",
       "</thead>\n",
       "<tbody>\n",
       "\t<tr><td>63</td><td>1</td><td>2.3</td><td>0.0</td><td>1</td><td>150</td><td>0</td></tr>\n",
       "\t<tr><td>67</td><td>1</td><td>1.5</td><td>3.0</td><td>0</td><td>108</td><td>2</td></tr>\n",
       "\t<tr><td>67</td><td>1</td><td>2.6</td><td>2.0</td><td>0</td><td>129</td><td>1</td></tr>\n",
       "\t<tr><td>37</td><td>1</td><td>3.5</td><td>0.0</td><td>0</td><td>187</td><td>0</td></tr>\n",
       "\t<tr><td>41</td><td>0</td><td>1.4</td><td>0.0</td><td>0</td><td>172</td><td>0</td></tr>\n",
       "\t<tr><td>56</td><td>1</td><td>0.8</td><td>0.0</td><td>0</td><td>178</td><td>0</td></tr>\n",
       "</tbody>\n",
       "</table>\n"
      ],
      "text/latex": [
       "A tibble: 6 × 7\n",
       "\\begin{tabular}{lllllll}\n",
       " age & sex & oldpeak & nmajorvessels & fastingbs & maxheartrate & diagnosis\\\\\n",
       " <dbl> & <dbl> & <dbl> & <chr> & <dbl> & <dbl> & <fct>\\\\\n",
       "\\hline\n",
       "\t 63 & 1 & 2.3 & 0.0 & 1 & 150 & 0\\\\\n",
       "\t 67 & 1 & 1.5 & 3.0 & 0 & 108 & 2\\\\\n",
       "\t 67 & 1 & 2.6 & 2.0 & 0 & 129 & 1\\\\\n",
       "\t 37 & 1 & 3.5 & 0.0 & 0 & 187 & 0\\\\\n",
       "\t 41 & 0 & 1.4 & 0.0 & 0 & 172 & 0\\\\\n",
       "\t 56 & 1 & 0.8 & 0.0 & 0 & 178 & 0\\\\\n",
       "\\end{tabular}\n"
      ],
      "text/markdown": [
       "\n",
       "A tibble: 6 × 7\n",
       "\n",
       "| age &lt;dbl&gt; | sex &lt;dbl&gt; | oldpeak &lt;dbl&gt; | nmajorvessels &lt;chr&gt; | fastingbs &lt;dbl&gt; | maxheartrate &lt;dbl&gt; | diagnosis &lt;fct&gt; |\n",
       "|---|---|---|---|---|---|---|\n",
       "| 63 | 1 | 2.3 | 0.0 | 1 | 150 | 0 |\n",
       "| 67 | 1 | 1.5 | 3.0 | 0 | 108 | 2 |\n",
       "| 67 | 1 | 2.6 | 2.0 | 0 | 129 | 1 |\n",
       "| 37 | 1 | 3.5 | 0.0 | 0 | 187 | 0 |\n",
       "| 41 | 0 | 1.4 | 0.0 | 0 | 172 | 0 |\n",
       "| 56 | 1 | 0.8 | 0.0 | 0 | 178 | 0 |\n",
       "\n"
      ],
      "text/plain": [
       "  age sex oldpeak nmajorvessels fastingbs maxheartrate diagnosis\n",
       "1 63  1   2.3     0.0           1         150          0        \n",
       "2 67  1   1.5     3.0           0         108          2        \n",
       "3 67  1   2.6     2.0           0         129          1        \n",
       "4 37  1   3.5     0.0           0         187          0        \n",
       "5 41  0   1.4     0.0           0         172          0        \n",
       "6 56  1   0.8     0.0           0         178          0        "
      ]
     },
     "metadata": {},
     "output_type": "display_data"
    }
   ],
   "source": [
    "# A closer look shows that nmajorvessels has 4 NA values that should be filtered.\n",
    "heart_closeup <- heart %>%\n",
    "filter(nmajorvessels == \"?\") %>%\n",
    "select(nmajorvessels) %>%\n",
    "count\n",
    "heart_closeup\n",
    "\n",
    "# Removing the missing data in nmajorvessels.\n",
    "heart_filtered <- heart                                                      %>%\n",
    "                  filter(nmajorvessels != \"?\")\n",
    "\n",
    "head(heart_filtered)\n"
   ]
  },
  {
   "cell_type": "code",
   "execution_count": 13,
   "metadata": {},
   "outputs": [
    {
     "data": {
      "text/html": [
       "210"
      ],
      "text/latex": [
       "210"
      ],
      "text/markdown": [
       "210"
      ],
      "text/plain": [
       "[1] 210"
      ]
     },
     "metadata": {},
     "output_type": "display_data"
    },
    {
     "data": {
      "text/html": [
       "89"
      ],
      "text/latex": [
       "89"
      ],
      "text/markdown": [
       "89"
      ],
      "text/plain": [
       "[1] 89"
      ]
     },
     "metadata": {},
     "output_type": "display_data"
    }
   ],
   "source": [
    "# Since values other than 0 for diagnosis means presence of heart disease, 1-4\n",
    "# values are lumped into 1. Sex, fasting blood sugar and diagnosis are also recoded to ease\n",
    "# understanding of their values and converted into factors for graphing.\n",
    "# Number of major vessels is converted into numeric.\n",
    "heart_disease <- heart_filtered %>%\n",
    "                 mutate(diagnosis = fct_lump(diagnosis, other_level = \"1\")) %>%\n",
    "                 mutate(sex = recode_factor(sex, `1` = \"Male\", \n",
    "                                                 `0` = \"Female\" ),\n",
    "                        diagnosis = recode_factor(diagnosis, `1` = \"Yes\",\n",
    "                                                             `0` = \"No\"),\n",
    "                        fastingbs = recode_factor(fastingbs, `1` = \"Over 120\", \n",
    "                                                             `0` = \"Under 120\")) %>%\n",
    "                 mutate(nmajorvessels = as.numeric(nmajorvessels))\n",
    "\n",
    "#Splitting the data.\n",
    "set.seed(11)\n",
    "\n",
    "heart_split <- initial_split(heart_disease, prop = 0.70, strata = diagnosis)\n",
    "heart_train <- training(heart_split)\n",
    "heart_test  <- testing(heart_split)\n",
    "\n",
    "nrow(heart_train)\n",
    "nrow(heart_test)"
   ]
  },
  {
   "cell_type": "code",
   "execution_count": 14,
   "metadata": {},
   "outputs": [
    {
     "name": "stderr",
     "output_type": "stream",
     "text": [
      "`summarise()` ungrouping output (override with `.groups` argument)\n",
      "\n"
     ]
    },
    {
     "data": {
      "text/html": [
       "<table>\n",
       "<caption>A tibble: 2 × 10</caption>\n",
       "<thead>\n",
       "\t<tr><th scope=col>diagnosis</th><th scope=col>size</th><th scope=col>age_mean</th><th scope=col>maxheartrate_mean</th><th scope=col>oldpeak_mean</th><th scope=col>nmajorvessels_mean</th><th scope=col>sex_fraction_female</th><th scope=col>sex_fraction_male</th><th scope=col>fastingbs_fraction_over_120</th><th scope=col>fastingbs_fraction_under_120</th></tr>\n",
       "\t<tr><th scope=col>&lt;fct&gt;</th><th scope=col>&lt;int&gt;</th><th scope=col>&lt;dbl&gt;</th><th scope=col>&lt;dbl&gt;</th><th scope=col>&lt;dbl&gt;</th><th scope=col>&lt;dbl&gt;</th><th scope=col>&lt;dbl&gt;</th><th scope=col>&lt;dbl&gt;</th><th scope=col>&lt;dbl&gt;</th><th scope=col>&lt;dbl&gt;</th></tr>\n",
       "</thead>\n",
       "<tbody>\n",
       "\t<tr><td>Yes</td><td> 97</td><td>57.14433</td><td>138.3402</td><td>1.535052</td><td>1.1855670</td><td>0.1134021</td><td>0.8865979</td><td>0.1340206</td><td>0.8659794</td></tr>\n",
       "\t<tr><td>No </td><td>113</td><td>52.23009</td><td>159.6726</td><td>0.600000</td><td>0.2920354</td><td>0.4247788</td><td>0.5752212</td><td>0.1592920</td><td>0.8407080</td></tr>\n",
       "</tbody>\n",
       "</table>\n"
      ],
      "text/latex": [
       "A tibble: 2 × 10\n",
       "\\begin{tabular}{llllllllll}\n",
       " diagnosis & size & age\\_mean & maxheartrate\\_mean & oldpeak\\_mean & nmajorvessels\\_mean & sex\\_fraction\\_female & sex\\_fraction\\_male & fastingbs\\_fraction\\_over\\_120 & fastingbs\\_fraction\\_under\\_120\\\\\n",
       " <fct> & <int> & <dbl> & <dbl> & <dbl> & <dbl> & <dbl> & <dbl> & <dbl> & <dbl>\\\\\n",
       "\\hline\n",
       "\t Yes &  97 & 57.14433 & 138.3402 & 1.535052 & 1.1855670 & 0.1134021 & 0.8865979 & 0.1340206 & 0.8659794\\\\\n",
       "\t No  & 113 & 52.23009 & 159.6726 & 0.600000 & 0.2920354 & 0.4247788 & 0.5752212 & 0.1592920 & 0.8407080\\\\\n",
       "\\end{tabular}\n"
      ],
      "text/markdown": [
       "\n",
       "A tibble: 2 × 10\n",
       "\n",
       "| diagnosis &lt;fct&gt; | size &lt;int&gt; | age_mean &lt;dbl&gt; | maxheartrate_mean &lt;dbl&gt; | oldpeak_mean &lt;dbl&gt; | nmajorvessels_mean &lt;dbl&gt; | sex_fraction_female &lt;dbl&gt; | sex_fraction_male &lt;dbl&gt; | fastingbs_fraction_over_120 &lt;dbl&gt; | fastingbs_fraction_under_120 &lt;dbl&gt; |\n",
       "|---|---|---|---|---|---|---|---|---|---|\n",
       "| Yes |  97 | 57.14433 | 138.3402 | 1.535052 | 1.1855670 | 0.1134021 | 0.8865979 | 0.1340206 | 0.8659794 |\n",
       "| No  | 113 | 52.23009 | 159.6726 | 0.600000 | 0.2920354 | 0.4247788 | 0.5752212 | 0.1592920 | 0.8407080 |\n",
       "\n"
      ],
      "text/plain": [
       "  diagnosis size age_mean maxheartrate_mean oldpeak_mean nmajorvessels_mean\n",
       "1 Yes        97  57.14433 138.3402          1.535052     1.1855670         \n",
       "2 No        113  52.23009 159.6726          0.600000     0.2920354         \n",
       "  sex_fraction_female sex_fraction_male fastingbs_fraction_over_120\n",
       "1 0.1134021           0.8865979         0.1340206                  \n",
       "2 0.4247788           0.5752212         0.1592920                  \n",
       "  fastingbs_fraction_under_120\n",
       "1 0.8659794                   \n",
       "2 0.8407080                   "
      ]
     },
     "metadata": {},
     "output_type": "display_data"
    }
   ],
   "source": [
    "#Looking at the means/ratio of each predictor for each type of diagnosis.\n",
    "group_summary <- heart_train                                                %>% \n",
    "                 group_by(diagnosis)                                        %>% \n",
    "                 summarize(size = n(),\n",
    "                            age_mean = mean(age),\n",
    "                            maxheartrate_mean = mean(maxheartrate),\n",
    "                            oldpeak_mean = mean(oldpeak),\n",
    "                            nmajorvessels_mean = mean(nmajorvessels),\n",
    "                            sex_fraction_female = sum(sex == \"Female\")/n(),\n",
    "                            sex_fraction_male = sum(sex == \"Male\")/n(),\n",
    "                            fastingbs_fraction_over_120 = \n",
    "                                             sum(fastingbs == \"Over 120\")/n(),\n",
    "                            fastingbs_fraction_under_120 = \n",
    "                                             sum(fastingbs == \"Under 120\")/n())\n",
    "\n",
    "group_summary\n"
   ]
  },
  {
   "cell_type": "code",
   "execution_count": 15,
   "metadata": {},
   "outputs": [
    {
     "data": {
      "text/html": [
       "<table>\n",
       "<caption>A tibble: 1 × 4</caption>\n",
       "<thead>\n",
       "\t<tr><th scope=col>age</th><th scope=col>maxheartrate</th><th scope=col>oldpeak</th><th scope=col>nmajorvessels</th></tr>\n",
       "\t<tr><th scope=col>&lt;dbl&gt;</th><th scope=col>&lt;dbl&gt;</th><th scope=col>&lt;dbl&gt;</th><th scope=col>&lt;dbl&gt;</th></tr>\n",
       "</thead>\n",
       "<tbody>\n",
       "\t<tr><td>54.5</td><td>149.819</td><td>1.031905</td><td>0.7047619</td></tr>\n",
       "</tbody>\n",
       "</table>\n"
      ],
      "text/latex": [
       "A tibble: 1 × 4\n",
       "\\begin{tabular}{llll}\n",
       " age & maxheartrate & oldpeak & nmajorvessels\\\\\n",
       " <dbl> & <dbl> & <dbl> & <dbl>\\\\\n",
       "\\hline\n",
       "\t 54.5 & 149.819 & 1.031905 & 0.7047619\\\\\n",
       "\\end{tabular}\n"
      ],
      "text/markdown": [
       "\n",
       "A tibble: 1 × 4\n",
       "\n",
       "| age &lt;dbl&gt; | maxheartrate &lt;dbl&gt; | oldpeak &lt;dbl&gt; | nmajorvessels &lt;dbl&gt; |\n",
       "|---|---|---|---|\n",
       "| 54.5 | 149.819 | 1.031905 | 0.7047619 |\n",
       "\n"
      ],
      "text/plain": [
       "  age  maxheartrate oldpeak  nmajorvessels\n",
       "1 54.5 149.819      1.031905 0.7047619    "
      ]
     },
     "metadata": {},
     "output_type": "display_data"
    }
   ],
   "source": [
    "#Looking at overall means for numeric predictors.\n",
    "heart_means <- heart_train                                               %>%\n",
    "               select(age, maxheartrate, oldpeak, nmajorvessels)         %>%\n",
    "               map_df(mean)\n",
    "heart_means"
   ]
  },
  {
   "cell_type": "code",
   "execution_count": null,
   "metadata": {},
   "outputs": [],
   "source": [
    "#Visualizing different relevant plots with training data.\n",
    "options(repr.plot.width = 20, repr.plot.height = 5) \n",
    "\n",
    "#Plotting a bar graph looking at presence of heart disease based in the sex.\n",
    "\n",
    "sex_plot <- ggplot(heart_train, aes(x = sex, fill = diagnosis))             +\n",
    "             geom_bar(position = \"fill\")                                    +\n",
    "             labs(x = \"Sex\", fill = \"Presence of \\nHeart Disease\")          +\n",
    "             ggtitle(\"Heart Disease Presence in Sexes\")                     +\n",
    "             theme(text = element_text(size = 20),\n",
    "                   axis.text.x = element_text(size = 17),\n",
    "                   axis.text.y = element_text(size = 17),\n",
    "                   title       = element_text(size = 15))                   +\n",
    "             scale_fill_brewer(palette = \"Set2\")\n",
    "\n",
    "# Plotting a bar graph looking at presence of heart disease based on fasting \n",
    "# blood sugar level.\n",
    "\n",
    "bs_plot  <- ggplot(heart_train, aes(x = fastingbs, fill = diagnosis))       +\n",
    "             geom_bar(position = \"fill\")                                    +\n",
    "             labs(x = \"Fasting Blood Sugar (mg/dl)\", \n",
    "                  fill = \"Presence of \\nHeart Disease\")                     +\n",
    "             ggtitle(\"Heart Disease Presence based in Fasting Blood Sugar\") +\n",
    "             theme(text = element_text(size = 20),\n",
    "                   axis.text.x = element_text(size = 17),\n",
    "                   axis.text.y = element_text(size = 17),\n",
    "                   title       = element_text(size = 15))                   +\n",
    "             scale_fill_brewer(palette = \"Set2\")\n",
    "\n",
    "#Looking at age distribution\n",
    "\n",
    "age_plot  <- ggplot(heart_train, aes(x = age, fill = diagnosis))            +\n",
    "              geom_density(alpha = 0.3)                                     +\n",
    "              geom_vline(data = group_summary, \n",
    "                         aes(xintercept = age_mean, color = diagnosis),\n",
    "                             linetype = \"dashed\", size = 1)                 +\n",
    "              labs(x     = \"Age(years)\", \n",
    "                   fill  = \"Presence of \\nHeart Disease\", \n",
    "                   color = \"Mean of Age\")                                   +\n",
    "              scale_color_hue(labels = c(\"Heart Disease\", \n",
    "                                         \"No Heart Disease\"))               +\n",
    "    ggtitle(\"Age Distribution Relative to \\n The Presence of Heart Disease\")+\n",
    "              theme(text  = element_text(size = 20),\n",
    "                    title = element_text(size = 18))                        +\n",
    "              scale_fill_brewer(palette = \"Set2\")\n",
    "\n",
    "#Looking at ST depression induced by exercise distribution\n",
    "peak_plot <- ggplot(heart_train, aes(x = oldpeak, fill = diagnosis))        +\n",
    "              geom_density(alpha = 0.3)                                     +\n",
    "              geom_vline(data = group_summary, \n",
    "                         aes(xintercept = oldpeak_mean, \n",
    "                             color = diagnosis),\n",
    "                             linetype=\"dashed\", size=1)                     +\n",
    "              labs(x     = \"ST depression induced by exercise\", \n",
    "                   fill  = \"Presence of \\nHeart Disease\", \n",
    "                   color = \"Mean of \\nST depression\")                       +\n",
    "              scale_color_hue(labels = c(\"Heart Disease\", \n",
    "                                         \"No Heart Disease\"))               +\n",
    "ggtitle(\"ST Depression Distribution \\nRelative to Presence of Heart Disease\")+\n",
    "              theme(text  = element_text(size = 20),\n",
    "                    title = element_text(size = 18))                         +\n",
    "              scale_fill_brewer(palette = \"Set2\")\n",
    "\n",
    "#Looking at maximum heart rate distribution\n",
    "\n",
    "heartrate_plot <- ggplot(heart_train, \n",
    "                         aes(x = maxheartrate, fill = diagnosis))           +\n",
    "                   geom_density(alpha = 0.3)                                +\n",
    "                   geom_vline(data    = group_summary, \n",
    "                              aes(xintercept = maxheartrate_mean, \n",
    "                                  color      = diagnosis),\n",
    "                                  linetype   = \"dashed\", \n",
    "                                  size       = 1)                           +\n",
    "                   labs(x     = \"Maximum Heart Rate (BPM)\", \n",
    "                        fill  = \"Presence of \\nHeart Disease\", \n",
    "                        color = \"Mean of Max \\nHeart Rate\")                 +\n",
    "                   scale_color_hue(labels = c(\"Heart Disease\", \n",
    "                                              \"No Heart Disease\"))          +\n",
    "ggtitle(\"Maximum Heart Rate Distribution \\nRelative to Presence of Heart Disease\")+\n",
    "                   theme(text = element_text(size = 20),\n",
    "                        title = element_text(size = 18))                    +\n",
    "                   scale_fill_brewer(palette = \"Set2\")\n",
    "      \n",
    "#Looking at number of major vessels distribution\n",
    "\n",
    "vessel_plot <- ggplot(heart_train, \n",
    "                      aes(x = nmajorvessels, fill = diagnosis))             +\n",
    "                geom_density(alpha = 0.3)                                   +\n",
    "                geom_vline(data = group_summary, \n",
    "                           aes(xintercept = nmajorvessels_mean, \n",
    "                               color      = diagnosis),\n",
    "                               linetype   = \"dashed\", \n",
    "                               size       = 1)                              +\n",
    "                labs(x     = \"Resting Blood Pressure (mm Hg)\", \n",
    "                     fill  = \"Presence of \\nHeart Disease\", \n",
    "                     color = \"Mean of Number \\nof Major Vessels\")           +\n",
    "            scale_color_hue(labels = c(\"Heart Disease\", \"No Heart Disease\"))+\n",
    "ggtitle(\"Major Vessels Distribution \\nRelative to Presence of Heart Disease\")+\n",
    "                     theme(text  = element_text(size = 20),\n",
    "                           title = element_text(size = 18))                 +\n",
    "                scale_fill_brewer(palette = \"Set2\")\n",
    "\n",
    "\n",
    "plot_grid(sex_plot, bs_plot,           ncol = 2)\n",
    "plot_grid(age_plot, peak_plot,         ncol = 2)\n",
    "plot_grid(heartrate_plot, vessel_plot, ncol = 2)\n",
    "\n",
    "#Plotting a scatter plot with Age vs Maximum Heart Rate\n",
    "age_heart <- ggplot(heart_train, aes(x = age, y = maxheartrate, \n",
    "                                       color = diagnosis))                  +\n",
    "              geom_point(alpha = 0.8)                                       +\n",
    "              labs(x = \"Age (years)\", y = \"Maximum Heart Rate (BPM)\", \n",
    "                   color = \"Presence of Heart Disease\")                     +\n",
    "              ggtitle(\"Age vs Maximum Heart Rate\")                          +\n",
    "              theme(text = element_text(size = 20),\n",
    "                    axis.text.x = element_text(size = 17),\n",
    "                    axis.text.y = element_text(size = 17),\n",
    "                    title       = element_text(size = 18))                  +\n",
    "              scale_color_brewer(palette = \"Set2\")\n",
    "\n",
    "options(repr.plot.width = 10, repr.plot.height = 6)\n",
    "age_heart\n"
   ]
  },
  {
   "cell_type": "markdown",
   "metadata": {},
   "source": [
    "## 4. Method:\n",
    "The chosen predictors are age, sex, number of major vessels colored by fluoroscopy, ST depression induced by exercise, fasting blood sugar, and maximum heart rate. These variables are shown to be heavily correlated to heart diseases based on the graphics above. For example, heart disease presence was shown to triple with each decade of life, which demonstrates the significance of age as a predictor.\n",
    "\n",
    "For creating the model, the testing set created earlier will be tested to predict the diagnosis based on the variables and see its accuracy. Since it is a small dataset, cross-validation must also be performed. The training set will be divided into 5 folds and the results for neighbors and mean accuracy will be plotted to find the most suitable value of K. Once the value of K has been found, the K-nearest neighbor model will be used to predict the diagnosis of patients in the test set. For visualizing the results, pairs of scatter plots (such as the Age vs Maximum heart rate) will be used to assess accuracy of the model. The background of each plot will be shaded in the color the model would have classified the points."
   ]
  },
  {
   "cell_type": "markdown",
   "metadata": {},
   "source": [
    "## 5. Expected Outcomes & Their Significance\n",
    "\n",
    "We would like to derive from this data whether the variables chosen are good predictors in determining the diagnosis of heart disease. Based on the plots above, we expect age, sex, number of major vessels colored by fluoroscopy, ST depression induced by exercise, and maximum heart rate to be able to predict the presence of heart disease. More specifically, older people, with high ST depression, low maximum heart rate, and a high number of major vessels are more prone to be diagnosed positively with heart disease.\n",
    "\n",
    "However, the plot for fasting blood sugar shows that people with over 120 mg/dl are more prone to have heart disease, but the difference is quite slight. Despite the grave implications a high blood sugar level might have on the heart, we hypothesize it might not be a good predictor. The impact of such findings could lead to more studies between blood sugar level and heart diseases, thus resulting in questions such as: what kind of heart diseases are most affected by blood sugar level? What is the threshold for blood sugar level and the presence of heart disease?"
   ]
  },
  {
   "cell_type": "code",
   "execution_count": null,
   "metadata": {},
   "outputs": [],
   "source": []
  }
 ],
 "metadata": {
  "kernelspec": {
   "display_name": "R",
   "language": "R",
   "name": "ir"
  },
  "language_info": {
   "codemirror_mode": "r",
   "file_extension": ".r",
   "mimetype": "text/x-r-source",
   "name": "R",
   "pygments_lexer": "r",
   "version": "4.0.0"
  }
 },
 "nbformat": 4,
 "nbformat_minor": 4
}
